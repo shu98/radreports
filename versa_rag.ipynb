{
 "cells": [
  {
   "cell_type": "code",
   "execution_count": 1,
   "metadata": {},
   "outputs": [],
   "source": [
    "import os\n",
    "import sys"
   ]
  },
  {
   "cell_type": "code",
   "execution_count": 2,
   "metadata": {},
   "outputs": [],
   "source": [
    "import os\n",
    "import re\n",
    "import json\n",
    "import base64\n",
    "import requests\n",
    "import urllib.parse"
   ]
  },
  {
   "cell_type": "code",
   "execution_count": 3,
   "metadata": {},
   "outputs": [],
   "source": [
    "os.environ[\"API_KEY\"] = \"your-API-key\"\n",
    "os.environ[\"API_VERSION\"]='2024-02-01'\n",
    "os.environ[\"RESOURCE_ENDPOINT\"]=\"https://unified-api.ucsf.edu/general\""
   ]
  },
  {
   "cell_type": "code",
   "execution_count": 11,
   "metadata": {},
   "outputs": [],
   "source": [
    "API_KEY = os.environ.get('API_KEY')  # Match the environment variable name to the name you used in the .env file\n",
    "API_VERSION = os.environ.get('API_VERSION')\n",
    "RESOURCE_ENDPOINT = os.environ.get('RESOURCE_ENDPOINT')"
   ]
  },
  {
   "cell_type": "code",
   "execution_count": 12,
   "metadata": {},
   "outputs": [],
   "source": [
    "api_base = os.getenv(\"RESOURCE_ENDPOINT\")\n",
    "api_key = os.getenv(\"API_KEY\")\n",
    "api_type = os.environ.get(\"AZURE_OPENAI_TYPE\", \"azure\")\n",
    "api_version = os.environ.get(\"API_VERSION\", \"2023-06-01-preview\")\n",
    "engine = os.getenv(\"AZURE_OPENAI_DEPLOYMENT\", 'gpt-4o-2024-05-13')\n",
    "model = os.getenv(\"AZURE_OPENAI_MODEL\")\n",
    "os.environ[\"OPENAI_API_TYPE\"] = \"azure\"\n",
    "os.environ[\"OPENAI_API_VERSION\"] = api_version\n",
    "os.environ[\"OPENAI_API_BASE\"] = api_base\n",
    "os.environ[\"OPENAI_API_KEY\"] = api_key"
   ]
  },
  {
   "cell_type": "code",
   "execution_count": 13,
   "metadata": {},
   "outputs": [],
   "source": [
    "embedding_deployment = 'text-embedding-ada-002'"
   ]
  },
  {
   "cell_type": "code",
   "execution_count": 7,
   "metadata": {},
   "outputs": [],
   "source": [
    "prefix = \"Given the following description, identify the most detailed AO/OTA Classification, including bone, location, group, and subgroup, as well as universal modifiers and qualifications if present. Explain your answer.\"\n",
    "def construct_prompt(text):\n",
    "    return f'{prefix}: \\n{clean_text(text)}'\n",
    "\n",
    "def clean_text(text):\n",
    "    return re.sub(r\"\\s+\", \" \", text)\n",
    "\n",
    "def construct_prompt_2(text):\n",
    "    input_text = f'Case: {text} Task: Analyze the provided fracture description, determine the AO Classification based on the details of the affected bone, location, and characteristics, and provide as response !only! the appropriate AO Code!'\n",
    "    return input_text"
   ]
  },
  {
   "cell_type": "code",
   "execution_count": 8,
   "metadata": {},
   "outputs": [],
   "source": [
    "from typing import Optional, List, Mapping, Any\n",
    "\n",
    "from llama_index import ServiceContext, SimpleDirectoryReader, SummaryIndex, VectorStoreIndex, GPTVectorStoreIndex\n",
    "from llama_index.embeddings import AzureOpenAIEmbedding\n",
    "from llama_index.callbacks import CallbackManager\n",
    "from llama_index.llms import (\n",
    "    LLM,\n",
    "    OpenAI,\n",
    "    AzureOpenAI,\n",
    "    CompletionResponse,\n",
    "    CompletionResponseGen,\n",
    "    LLMMetadata,\n",
    ")\n",
    "from llama_index import set_global_service_context"
   ]
  },
  {
   "cell_type": "code",
   "execution_count": 14,
   "metadata": {},
   "outputs": [],
   "source": [
    "embed_model = AzureOpenAIEmbedding(\n",
    "    azure_endpoint=RESOURCE_ENDPOINT,\n",
    "    api_key=API_KEY,\n",
    "    api_version=API_VERSION,  \n",
    "    deployment_name=embedding_deployment,\n",
    ")"
   ]
  },
  {
   "cell_type": "code",
   "execution_count": 15,
   "metadata": {},
   "outputs": [],
   "source": [
    "llm = AzureOpenAI(azure_endpoint=RESOURCE_ENDPOINT, api_key=API_KEY, api_version=API_VERSION, engine=engine)\n",
    "service_context = ServiceContext.from_defaults(llm=llm, embed_model=embed_model)"
   ]
  },
  {
   "cell_type": "code",
   "execution_count": 16,
   "metadata": {},
   "outputs": [],
   "source": [
    "set_global_service_context(service_context)  "
   ]
  },
  {
   "cell_type": "code",
   "execution_count": 17,
   "metadata": {},
   "outputs": [],
   "source": [
    "documents = SimpleDirectoryReader(\"augmented_data\").load_data()\n",
    "index = GPTVectorStoreIndex.from_documents(\n",
    "    documents, service_context=service_context\n",
    ")"
   ]
  },
  {
   "cell_type": "code",
   "execution_count": 18,
   "metadata": {},
   "outputs": [],
   "source": [
    "query_engine = index.as_query_engine(similarity_top_k=5)"
   ]
  },
  {
   "cell_type": "markdown",
   "metadata": {},
   "source": [
    "# Run Queries"
   ]
  },
  {
   "cell_type": "code",
   "execution_count": null,
   "metadata": {},
   "outputs": [],
   "source": [
    "# CSV file with 2 columns: study_id, radiology_report_text\n",
    "df = pd.read_csv('/path/to/radiology_reports.csv')"
   ]
  },
  {
   "cell_type": "code",
   "execution_count": null,
   "metadata": {},
   "outputs": [],
   "source": [
    "prompt_categories = [\"single_prompt_data_augmented\", \"data_augmented_with_explanation\"]\n",
    "prompt_prefixes = {\n",
    "    \"single_prompt_data_augmented\": \"Provide an AO/OTA classification label for the following fracture description. Be as precise as possible, including subgroups, universal modifiers, and qualifiers if available. Provide only the label in your response, with no explanation. If there are multiple fractures identified, provide a comma-separated list.\",\n",
    "    \"data_augmented_with_explanation\": \"Provide an AO/OTA classification label for the following fracture description. Be as precise as possible, including subgroups, universal modifiers, and qualifiers if available. Provide the label in your response, followed by a brief explanation for each part of the classification. If there are multiple fractures identified, provide a comma-separated list.\"\n",
    "}"
   ]
  },
  {
   "cell_type": "code",
   "execution_count": null,
   "metadata": {},
   "outputs": [],
   "source": [
    "results = []\n",
    "for _, row in df.iterrows():\n",
    "    for prompt in prompt_categories:\n",
    "        full_prompt = f\"{prompt_prefixes[prompt]}: {row['radiology_report_text']}\"\n",
    "        response = query_engine.query(prompt)\n",
    "        results.append((row['study_id'], prompt, prompt_prefixes[prompt], row['radiology_report_text'], response.response))"
   ]
  },
  {
   "cell_type": "code",
   "execution_count": null,
   "metadata": {},
   "outputs": [],
   "source": [
    "results = pd.DataFrame(results, columns=[\"study_id\", \"prompt\", \"prompt_prefix\", \"radiology_report_text\", \"response\"])"
   ]
  },
  {
   "cell_type": "code",
   "execution_count": null,
   "metadata": {},
   "outputs": [],
   "source": [
    "results.to_csv(\"/path/to/output_file.csv\")"
   ]
  },
  {
   "cell_type": "code",
   "execution_count": null,
   "metadata": {},
   "outputs": [],
   "source": []
  }
 ],
 "metadata": {
  "kernelspec": {
   "display_name": "dask_distribution_env_tuesday",
   "language": "python",
   "name": "dask_distribution_env_tuesday"
  },
  "language_info": {
   "codemirror_mode": {
    "name": "ipython",
    "version": 3
   },
   "file_extension": ".py",
   "mimetype": "text/x-python",
   "name": "python",
   "nbconvert_exporter": "python",
   "pygments_lexer": "ipython3",
   "version": "3.8.17"
  }
 },
 "nbformat": 4,
 "nbformat_minor": 4
}
